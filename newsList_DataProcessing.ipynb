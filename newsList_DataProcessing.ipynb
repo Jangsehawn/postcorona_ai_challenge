{
 "cells": [
  {
   "cell_type": "markdown",
   "metadata": {},
   "source": [
    "# 코로나 관련 기사수와 확진자수와의 관계 알아보기  \n",
    "NewsList 데이터에서 감염병이 Covid-19인 기사를 일별로 카운트하고, 이것과 해외 유입 확진자 수가 상관관계가 있는지 확인해보자"
   ]
  },
  {
   "cell_type": "code",
   "execution_count": 1,
   "metadata": {},
   "outputs": [],
   "source": [
    "import pandas as pd"
   ]
  },
  {
   "cell_type": "code",
   "execution_count": 155,
   "metadata": {},
   "outputs": [],
   "source": [
    "newsList_df1 = pd.read_excel('C:\\\\Users\\\\eh063\\\\Desktop\\\\은하\\\\BOAZ\\\\분석 BASE\\\\ML\\\\포스트 코로나\\\\corona_contest_data_0406\\\\3-1. NewsList.xls')\n",
    "newsList_df2 = pd.read_excel('C:\\\\Users\\\\eh063\\\\Desktop\\\\은하\\\\BOAZ\\\\분석 BASE\\\\ML\\\\포스트 코로나\\\\corona_contest_data_0506_0\\\\corona_contest_data_0506\\\\3-1. NewsList.xls')"
   ]
  },
  {
   "cell_type": "code",
   "execution_count": 156,
   "metadata": {},
   "outputs": [],
   "source": [
    "newsList_df = pd.concat([newsList_df1, newsList_df2])"
   ]
  },
  {
   "cell_type": "code",
   "execution_count": 157,
   "metadata": {},
   "outputs": [
    {
     "data": {
      "text/html": [
       "<div>\n",
       "<style scoped>\n",
       "    .dataframe tbody tr th:only-of-type {\n",
       "        vertical-align: middle;\n",
       "    }\n",
       "\n",
       "    .dataframe tbody tr th {\n",
       "        vertical-align: top;\n",
       "    }\n",
       "\n",
       "    .dataframe thead th {\n",
       "        text-align: right;\n",
       "    }\n",
       "</style>\n",
       "<table border=\"1\" class=\"dataframe\">\n",
       "  <thead>\n",
       "    <tr style=\"text-align: right;\">\n",
       "      <th></th>\n",
       "      <th>파일명</th>\n",
       "      <th>제목</th>\n",
       "      <th>URL</th>\n",
       "      <th>수집일자</th>\n",
       "      <th>게시일자</th>\n",
       "      <th>채널명</th>\n",
       "      <th>감염병명</th>\n",
       "      <th>분류명</th>\n",
       "    </tr>\n",
       "  </thead>\n",
       "  <tbody>\n",
       "    <tr>\n",
       "      <td>0</td>\n",
       "      <td>AFRO2019120200003</td>\n",
       "      <td>WHO supports Angola’s Government efforts to en...</td>\n",
       "      <td>https://www.afro.who.int/news/who-supports-ang...</td>\n",
       "      <td>2019-12-02 21:00:16.0</td>\n",
       "      <td>2019-12-02 00:00:00</td>\n",
       "      <td>AFRO</td>\n",
       "      <td>Poliomyelitis</td>\n",
       "      <td>Viral</td>\n",
       "    </tr>\n",
       "    <tr>\n",
       "      <td>1</td>\n",
       "      <td>AFRO2019120300001</td>\n",
       "      <td>African First Ladies laud progress against HIV...</td>\n",
       "      <td>https://www.afro.who.int/news/african-first-la...</td>\n",
       "      <td>2019-12-03 00:00:17.0</td>\n",
       "      <td>2019-12-02 00:00:00</td>\n",
       "      <td>AFRO</td>\n",
       "      <td>Acquired immuno deficiency syndrome</td>\n",
       "      <td>Viral</td>\n",
       "    </tr>\n",
       "    <tr>\n",
       "      <td>2</td>\n",
       "      <td>AFRO2019120300002</td>\n",
       "      <td>Eritrea Observed World AIDS Day 2019</td>\n",
       "      <td>https://www.afro.who.int/news/eritrea-observed...</td>\n",
       "      <td>2019-12-03 00:00:18.0</td>\n",
       "      <td>2019-12-02 00:00:00</td>\n",
       "      <td>AFRO</td>\n",
       "      <td>Acquired immuno deficiency syndrome</td>\n",
       "      <td>Viral</td>\n",
       "    </tr>\n",
       "    <tr>\n",
       "      <td>3</td>\n",
       "      <td>AFRO2019120400003</td>\n",
       "      <td>West and Central Africa Expands Access to HIV ...</td>\n",
       "      <td>https://www.afro.who.int/news/west-and-central...</td>\n",
       "      <td>2019-12-04 03:00:14.0</td>\n",
       "      <td>2019-12-03 00:00:00</td>\n",
       "      <td>AFRO</td>\n",
       "      <td>Acquired immuno deficiency syndrome</td>\n",
       "      <td>Viral</td>\n",
       "    </tr>\n",
       "    <tr>\n",
       "      <td>4</td>\n",
       "      <td>AFRO2019120400004</td>\n",
       "      <td>Nearly 23 million voluntary male medical circu...</td>\n",
       "      <td>https://www.afro.who.int/news/nearly-23-millio...</td>\n",
       "      <td>2019-12-04 22:00:14.0</td>\n",
       "      <td>2019-12-04 00:00:00</td>\n",
       "      <td>AFRO</td>\n",
       "      <td>Acquired immuno deficiency syndrome</td>\n",
       "      <td>Viral</td>\n",
       "    </tr>\n",
       "  </tbody>\n",
       "</table>\n",
       "</div>"
      ],
      "text/plain": [
       "                 파일명                                                 제목  \\\n",
       "0  AFRO2019120200003  WHO supports Angola’s Government efforts to en...   \n",
       "1  AFRO2019120300001  African First Ladies laud progress against HIV...   \n",
       "2  AFRO2019120300002               Eritrea Observed World AIDS Day 2019   \n",
       "3  AFRO2019120400003  West and Central Africa Expands Access to HIV ...   \n",
       "4  AFRO2019120400004  Nearly 23 million voluntary male medical circu...   \n",
       "\n",
       "                                                 URL                   수집일자  \\\n",
       "0  https://www.afro.who.int/news/who-supports-ang...  2019-12-02 21:00:16.0   \n",
       "1  https://www.afro.who.int/news/african-first-la...  2019-12-03 00:00:17.0   \n",
       "2  https://www.afro.who.int/news/eritrea-observed...  2019-12-03 00:00:18.0   \n",
       "3  https://www.afro.who.int/news/west-and-central...  2019-12-04 03:00:14.0   \n",
       "4  https://www.afro.who.int/news/nearly-23-millio...  2019-12-04 22:00:14.0   \n",
       "\n",
       "                  게시일자   채널명                                 감염병명    분류명  \n",
       "0  2019-12-02 00:00:00  AFRO                        Poliomyelitis  Viral  \n",
       "1  2019-12-02 00:00:00  AFRO  Acquired immuno deficiency syndrome  Viral  \n",
       "2  2019-12-02 00:00:00  AFRO  Acquired immuno deficiency syndrome  Viral  \n",
       "3  2019-12-03 00:00:00  AFRO  Acquired immuno deficiency syndrome  Viral  \n",
       "4  2019-12-04 00:00:00  AFRO  Acquired immuno deficiency syndrome  Viral  "
      ]
     },
     "execution_count": 157,
     "metadata": {},
     "output_type": "execute_result"
    }
   ],
   "source": [
    "newsList_df.head()"
   ]
  },
  {
   "cell_type": "code",
   "execution_count": 158,
   "metadata": {},
   "outputs": [],
   "source": [
    "newsList_df['게시일자'] = newsList_df['게시일자'].apply(lambda x : x[0:11])"
   ]
  },
  {
   "cell_type": "code",
   "execution_count": 159,
   "metadata": {},
   "outputs": [
    {
     "data": {
      "text/html": [
       "<div>\n",
       "<style scoped>\n",
       "    .dataframe tbody tr th:only-of-type {\n",
       "        vertical-align: middle;\n",
       "    }\n",
       "\n",
       "    .dataframe tbody tr th {\n",
       "        vertical-align: top;\n",
       "    }\n",
       "\n",
       "    .dataframe thead th {\n",
       "        text-align: right;\n",
       "    }\n",
       "</style>\n",
       "<table border=\"1\" class=\"dataframe\">\n",
       "  <thead>\n",
       "    <tr style=\"text-align: right;\">\n",
       "      <th></th>\n",
       "      <th>파일명</th>\n",
       "      <th>제목</th>\n",
       "      <th>URL</th>\n",
       "      <th>수집일자</th>\n",
       "      <th>게시일자</th>\n",
       "      <th>채널명</th>\n",
       "      <th>감염병명</th>\n",
       "      <th>분류명</th>\n",
       "    </tr>\n",
       "  </thead>\n",
       "  <tbody>\n",
       "    <tr>\n",
       "      <td>0</td>\n",
       "      <td>AFRO2019120200003</td>\n",
       "      <td>WHO supports Angola’s Government efforts to en...</td>\n",
       "      <td>https://www.afro.who.int/news/who-supports-ang...</td>\n",
       "      <td>2019-12-02 21:00:16.0</td>\n",
       "      <td>2019-12-02</td>\n",
       "      <td>AFRO</td>\n",
       "      <td>Poliomyelitis</td>\n",
       "      <td>Viral</td>\n",
       "    </tr>\n",
       "    <tr>\n",
       "      <td>1</td>\n",
       "      <td>AFRO2019120300001</td>\n",
       "      <td>African First Ladies laud progress against HIV...</td>\n",
       "      <td>https://www.afro.who.int/news/african-first-la...</td>\n",
       "      <td>2019-12-03 00:00:17.0</td>\n",
       "      <td>2019-12-02</td>\n",
       "      <td>AFRO</td>\n",
       "      <td>Acquired immuno deficiency syndrome</td>\n",
       "      <td>Viral</td>\n",
       "    </tr>\n",
       "    <tr>\n",
       "      <td>2</td>\n",
       "      <td>AFRO2019120300002</td>\n",
       "      <td>Eritrea Observed World AIDS Day 2019</td>\n",
       "      <td>https://www.afro.who.int/news/eritrea-observed...</td>\n",
       "      <td>2019-12-03 00:00:18.0</td>\n",
       "      <td>2019-12-02</td>\n",
       "      <td>AFRO</td>\n",
       "      <td>Acquired immuno deficiency syndrome</td>\n",
       "      <td>Viral</td>\n",
       "    </tr>\n",
       "    <tr>\n",
       "      <td>3</td>\n",
       "      <td>AFRO2019120400003</td>\n",
       "      <td>West and Central Africa Expands Access to HIV ...</td>\n",
       "      <td>https://www.afro.who.int/news/west-and-central...</td>\n",
       "      <td>2019-12-04 03:00:14.0</td>\n",
       "      <td>2019-12-03</td>\n",
       "      <td>AFRO</td>\n",
       "      <td>Acquired immuno deficiency syndrome</td>\n",
       "      <td>Viral</td>\n",
       "    </tr>\n",
       "    <tr>\n",
       "      <td>4</td>\n",
       "      <td>AFRO2019120400004</td>\n",
       "      <td>Nearly 23 million voluntary male medical circu...</td>\n",
       "      <td>https://www.afro.who.int/news/nearly-23-millio...</td>\n",
       "      <td>2019-12-04 22:00:14.0</td>\n",
       "      <td>2019-12-04</td>\n",
       "      <td>AFRO</td>\n",
       "      <td>Acquired immuno deficiency syndrome</td>\n",
       "      <td>Viral</td>\n",
       "    </tr>\n",
       "  </tbody>\n",
       "</table>\n",
       "</div>"
      ],
      "text/plain": [
       "                 파일명                                                 제목  \\\n",
       "0  AFRO2019120200003  WHO supports Angola’s Government efforts to en...   \n",
       "1  AFRO2019120300001  African First Ladies laud progress against HIV...   \n",
       "2  AFRO2019120300002               Eritrea Observed World AIDS Day 2019   \n",
       "3  AFRO2019120400003  West and Central Africa Expands Access to HIV ...   \n",
       "4  AFRO2019120400004  Nearly 23 million voluntary male medical circu...   \n",
       "\n",
       "                                                 URL                   수집일자  \\\n",
       "0  https://www.afro.who.int/news/who-supports-ang...  2019-12-02 21:00:16.0   \n",
       "1  https://www.afro.who.int/news/african-first-la...  2019-12-03 00:00:17.0   \n",
       "2  https://www.afro.who.int/news/eritrea-observed...  2019-12-03 00:00:18.0   \n",
       "3  https://www.afro.who.int/news/west-and-central...  2019-12-04 03:00:14.0   \n",
       "4  https://www.afro.who.int/news/nearly-23-millio...  2019-12-04 22:00:14.0   \n",
       "\n",
       "          게시일자   채널명                                 감염병명    분류명  \n",
       "0  2019-12-02   AFRO                        Poliomyelitis  Viral  \n",
       "1  2019-12-02   AFRO  Acquired immuno deficiency syndrome  Viral  \n",
       "2  2019-12-02   AFRO  Acquired immuno deficiency syndrome  Viral  \n",
       "3  2019-12-03   AFRO  Acquired immuno deficiency syndrome  Viral  \n",
       "4  2019-12-04   AFRO  Acquired immuno deficiency syndrome  Viral  "
      ]
     },
     "execution_count": 159,
     "metadata": {},
     "output_type": "execute_result"
    }
   ],
   "source": [
    "newsList_df.head()"
   ]
  },
  {
   "cell_type": "code",
   "execution_count": 169,
   "metadata": {},
   "outputs": [],
   "source": [
    "pd.DataFrame(newsList_df_covid19.groupby('게시일자')['파일명'].count()).sort_values('게시일자').to_csv('article_count.csv')"
   ]
  },
  {
   "cell_type": "code",
   "execution_count": 160,
   "metadata": {},
   "outputs": [],
   "source": [
    "newsList_df_covid19 = newsList_df[newsList_df['감염병명'] == 'COVID-19'].reset_index().drop('index', axis=1, inplace=False)"
   ]
  },
  {
   "cell_type": "code",
   "execution_count": 146,
   "metadata": {},
   "outputs": [],
   "source": [
    "article_count = pd.DataFrame(data={'ds' : newsList_df_covid19['게시일자'].unique(), '기사수' : list(newsList_df_covid19.groupby('게시일자')['파일명'].count())})"
   ]
  },
  {
   "cell_type": "code",
   "execution_count": 149,
   "metadata": {},
   "outputs": [
    {
     "data": {
      "text/html": [
       "<div>\n",
       "<style scoped>\n",
       "    .dataframe tbody tr th:only-of-type {\n",
       "        vertical-align: middle;\n",
       "    }\n",
       "\n",
       "    .dataframe tbody tr th {\n",
       "        vertical-align: top;\n",
       "    }\n",
       "\n",
       "    .dataframe thead th {\n",
       "        text-align: right;\n",
       "    }\n",
       "</style>\n",
       "<table border=\"1\" class=\"dataframe\">\n",
       "  <thead>\n",
       "    <tr style=\"text-align: right;\">\n",
       "      <th></th>\n",
       "      <th>ds</th>\n",
       "      <th>기사수</th>\n",
       "    </tr>\n",
       "  </thead>\n",
       "  <tbody>\n",
       "    <tr>\n",
       "      <td>0</td>\n",
       "      <td>2020-01-25</td>\n",
       "      <td>1</td>\n",
       "    </tr>\n",
       "    <tr>\n",
       "      <td>1</td>\n",
       "      <td>2020-01-31</td>\n",
       "      <td>1</td>\n",
       "    </tr>\n",
       "    <tr>\n",
       "      <td>2</td>\n",
       "      <td>2020-02-01</td>\n",
       "      <td>1</td>\n",
       "    </tr>\n",
       "    <tr>\n",
       "      <td>3</td>\n",
       "      <td>2020-02-02</td>\n",
       "      <td>1</td>\n",
       "    </tr>\n",
       "    <tr>\n",
       "      <td>4</td>\n",
       "      <td>2020-02-04</td>\n",
       "      <td>1</td>\n",
       "    </tr>\n",
       "    <tr>\n",
       "      <td>...</td>\n",
       "      <td>...</td>\n",
       "      <td>...</td>\n",
       "    </tr>\n",
       "    <tr>\n",
       "      <td>119</td>\n",
       "      <td>2020-05-16</td>\n",
       "      <td>793</td>\n",
       "    </tr>\n",
       "    <tr>\n",
       "      <td>120</td>\n",
       "      <td>2020-04-11</td>\n",
       "      <td>1</td>\n",
       "    </tr>\n",
       "    <tr>\n",
       "      <td>121</td>\n",
       "      <td>2020-04-04</td>\n",
       "      <td>1</td>\n",
       "    </tr>\n",
       "    <tr>\n",
       "      <td>122</td>\n",
       "      <td>2019-06-01</td>\n",
       "      <td>6</td>\n",
       "    </tr>\n",
       "    <tr>\n",
       "      <td>123</td>\n",
       "      <td>2020-04-18</td>\n",
       "      <td>1</td>\n",
       "    </tr>\n",
       "  </tbody>\n",
       "</table>\n",
       "<p>124 rows × 2 columns</p>\n",
       "</div>"
      ],
      "text/plain": [
       "              ds  기사수\n",
       "0    2020-01-25     1\n",
       "1    2020-01-31     1\n",
       "2    2020-02-01     1\n",
       "3    2020-02-02     1\n",
       "4    2020-02-04     1\n",
       "..           ...  ...\n",
       "119  2020-05-16   793\n",
       "120  2020-04-11     1\n",
       "121  2020-04-04     1\n",
       "122  2019-06-01     6\n",
       "123  2020-04-18     1\n",
       "\n",
       "[124 rows x 2 columns]"
      ]
     },
     "execution_count": 149,
     "metadata": {},
     "output_type": "execute_result"
    }
   ],
   "source": [
    "article_count"
   ]
  },
  {
   "cell_type": "code",
   "execution_count": 71,
   "metadata": {},
   "outputs": [],
   "source": [
    "import matplotlib.pyplot as plt\n",
    "%matplotlib inline"
   ]
  },
  {
   "cell_type": "code",
   "execution_count": 154,
   "metadata": {},
   "outputs": [],
   "source": [
    "article_count.to_csv('article_count.csv', index=False)"
   ]
  },
  {
   "cell_type": "code",
   "execution_count": 179,
   "metadata": {},
   "outputs": [],
   "source": [
    "corona_df = pd.read_csv('corona_200508.csv')"
   ]
  },
  {
   "cell_type": "code",
   "execution_count": 180,
   "metadata": {},
   "outputs": [
    {
     "data": {
      "text/html": [
       "<div>\n",
       "<style scoped>\n",
       "    .dataframe tbody tr th:only-of-type {\n",
       "        vertical-align: middle;\n",
       "    }\n",
       "\n",
       "    .dataframe tbody tr th {\n",
       "        vertical-align: top;\n",
       "    }\n",
       "\n",
       "    .dataframe thead th {\n",
       "        text-align: right;\n",
       "    }\n",
       "</style>\n",
       "<table border=\"1\" class=\"dataframe\">\n",
       "  <thead>\n",
       "    <tr style=\"text-align: right;\">\n",
       "      <th></th>\n",
       "      <th>ds</th>\n",
       "      <th>y</th>\n",
       "    </tr>\n",
       "  </thead>\n",
       "  <tbody>\n",
       "    <tr>\n",
       "      <td>0</td>\n",
       "      <td>2020-01-20</td>\n",
       "      <td>1</td>\n",
       "    </tr>\n",
       "    <tr>\n",
       "      <td>1</td>\n",
       "      <td>2020-01-24</td>\n",
       "      <td>1</td>\n",
       "    </tr>\n",
       "    <tr>\n",
       "      <td>2</td>\n",
       "      <td>2020-01-26</td>\n",
       "      <td>1</td>\n",
       "    </tr>\n",
       "    <tr>\n",
       "      <td>3</td>\n",
       "      <td>2020-01-27</td>\n",
       "      <td>1</td>\n",
       "    </tr>\n",
       "    <tr>\n",
       "      <td>4</td>\n",
       "      <td>2020-01-30</td>\n",
       "      <td>1</td>\n",
       "    </tr>\n",
       "  </tbody>\n",
       "</table>\n",
       "</div>"
      ],
      "text/plain": [
       "           ds  y\n",
       "0  2020-01-20  1\n",
       "1  2020-01-24  1\n",
       "2  2020-01-26  1\n",
       "3  2020-01-27  1\n",
       "4  2020-01-30  1"
      ]
     },
     "execution_count": 180,
     "metadata": {},
     "output_type": "execute_result"
    }
   ],
   "source": [
    "corona_df.head()"
   ]
  },
  {
   "cell_type": "code",
   "execution_count": 183,
   "metadata": {},
   "outputs": [
    {
     "data": {
      "text/plain": [
       "[<matplotlib.lines.Line2D at 0x2280184aa48>]"
      ]
     },
     "execution_count": 183,
     "metadata": {},
     "output_type": "execute_result"
    },
    {
     "data": {
      "image/png": "[encoded data removed]",
      "text/plain": [
       "<Figure size 432x288 with 1 Axes>"
      ]
     },
     "metadata": {
      "needs_background": "light"
     },
     "output_type": "display_data"
    }
   ],
   "source": [
    "plt.plot(article_count.기사수)"
   ]
  },
  {
   "cell_type": "code",
   "execution_count": 184,
   "metadata": {},
   "outputs": [
    {
     "data": {
      "text/plain": [
       "[<matplotlib.lines.Line2D at 0x228018b0408>]"
      ]
     },
     "execution_count": 184,
     "metadata": {},
     "output_type": "execute_result"
    },
    {
     "data": {
      "image/png": "[encoded data removed]",
      "text/plain": [
       "<Figure size 432x288 with 1 Axes>"
      ]
     },
     "metadata": {
      "needs_background": "light"
     },
     "output_type": "display_data"
    }
   ],
   "source": [
    "plt.plot(corona_df.y)"
   ]
  },
  {
   "cell_type": "markdown",
   "metadata": {},
   "source": [
    "g"
   ]
  }
 ],
 "metadata": {
  "kernelspec": {
   "display_name": "Python 3",
   "language": "python",
   "name": "python3"
  },
  "language_info": {
   "codemirror_mode": {
    "name": "ipython",
    "version": 3
   },
   "file_extension": ".py",
   "mimetype": "text/x-python",
   "name": "python",
   "nbconvert_exporter": "python",
   "pygments_lexer": "ipython3",
   "version": "3.7.4"
  }
 },
 "nbformat": 4,
 "nbformat_minor": 2
}
